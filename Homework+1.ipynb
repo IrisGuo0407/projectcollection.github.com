{
 "cells": [
  {
   "cell_type": "code",
   "execution_count": 2,
   "metadata": {
    "scrolled": false
   },
   "outputs": [
    {
     "name": "stdout",
     "output_type": "stream",
     "text": [
      "['It', 'was', 'love', 'at', 'first', 'sight']\n"
     ]
    }
   ],
   "source": [
    "sentence = 'It was love at first sight'\n",
    "words = sentence.split()\n",
    "print (words)"
   ]
  },
  {
   "cell_type": "code",
   "execution_count": 5,
   "metadata": {},
   "outputs": [
    {
     "name": "stdout",
     "output_type": "stream",
     "text": [
      "['It', 'was', 'love', 'at', 'first', 'sight']\n"
     ]
    },
    {
     "data": {
      "text/plain": [
       "['first', 'sight', 'love', 'was', 'It', 'at']"
      ]
     },
     "execution_count": 5,
     "metadata": {},
     "output_type": "execute_result"
    }
   ],
   "source": [
    "sentence = 'It was love at first sight'#Set the sentence as a string \n",
    "words = sentence.split()\n",
    "print (words)\n",
    "sorted(words, key = len, reverse=True)"
   ]
  }
 ],
 "metadata": {
  "kernelspec": {
   "display_name": "Python 3",
   "language": "python",
   "name": "python3"
  },
  "language_info": {
   "codemirror_mode": {
    "name": "ipython",
    "version": 3
   },
   "file_extension": ".py",
   "mimetype": "text/x-python",
   "name": "python",
   "nbconvert_exporter": "python",
   "pygments_lexer": "ipython3",
   "version": "3.6.3"
  }
 },
 "nbformat": 4,
 "nbformat_minor": 2
}
